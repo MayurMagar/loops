{
 "cells": [
  {
   "cell_type": "code",
   "execution_count": 2,
   "id": "35122992",
   "metadata": {},
   "outputs": [
    {
     "name": "stdout",
     "output_type": "stream",
     "text": [
      "enter the number: 24\n",
      "number is divisible by 2\n"
     ]
    }
   ],
   "source": [
    "#program to check wheather the last digit of a number(enter by user) is divisible by 2 or not\n",
    "number=int(input(\"enter the number: \"))\n",
    "id=number%10\n",
    "\n",
    "if id%2==0:\n",
    "    print(f\"number is divisible by 2\")\n",
    "else:\n",
    "    print(\"number is not divisible by 2\")"
   ]
  },
  {
   "cell_type": "code",
   "execution_count": 3,
   "id": "6fed2229",
   "metadata": {},
   "outputs": [
    {
     "name": "stdout",
     "output_type": "stream",
     "text": [
      "enter the cost of a bike: 75000\n",
      "tax paid by owner is 10% of a cost of bike\n"
     ]
    }
   ],
   "source": [
    "#program to accept the cost price of a bike and according to that display the percentage of tax paid by owner\n",
    "cost=float(input(\"enter the cost of a bike: \"))\n",
    "\n",
    "if cost > 100000:\n",
    "    print(f\"tax paid by owner is 15% of a cost of bike\")\n",
    "elif cost>=50000 and cost<=100000:\n",
    "    print(f\"tax paid by owner is 10% of a cost of bike\")\n",
    "else:\n",
    "    print(f\"tax paid by owner is 5% of a cost of bike\")"
   ]
  },
  {
   "cell_type": "code",
   "execution_count": 8,
   "id": "6c9d08ee",
   "metadata": {},
   "outputs": [
    {
     "name": "stdout",
     "output_type": "stream",
     "text": [
      "enter the cost of a bike: 34000\n",
      "tax paid by owner for bike 1700.0\n"
     ]
    }
   ],
   "source": [
    "# program to display the amount paid by owner as a tax\n",
    "tax=0\n",
    "cost=float(input(\"enter the cost of a bike: \"))\n",
    "if cost > 100000:\n",
    "    tax=15/100*cost\n",
    "    print(\"tax paid by owner for bike\",tax)\n",
    "elif cost>=50000 and cost<=100000:\n",
    "    tax=10/100*cost\n",
    "    print(\"tax paid by owner for bike\",tax)\n",
    "else:\n",
    "    tax=5/100*cost\n",
    "    print(\"tax paid by owner for bike\",tax)"
   ]
  },
  {
   "cell_type": "code",
   "execution_count": 9,
   "id": "bbfb1d3f",
   "metadata": {},
   "outputs": [
    {
     "name": "stdout",
     "output_type": "stream",
     "text": [
      "enter the number between 1 to 7 : 5\n",
      "the day is thursday\n"
     ]
    }
   ],
   "source": [
    "# program to accept a number from 1 to 7 and display the day assign to that number\n",
    "number=int(input(\"enter the number between 1 to 7 : \"))\n",
    "if number==1:\n",
    "    print(\"the day is sunday\")\n",
    "elif number==2:\n",
    "    print(\"the day is monday\")\n",
    "elif number==3:\n",
    "    print(\"the day is tuesday\")\n",
    "elif number==4:\n",
    "    print(\"the day is wednesday\")\n",
    "elif number==5:\n",
    "    print(\"the day is thursday\")\n",
    "elif number==6:\n",
    "    print(\"the day is friday\")\n",
    "else:\n",
    "    print(\"the day is saturday\")\n",
    "    "
   ]
  },
  {
   "cell_type": "code",
   "execution_count": 11,
   "id": "52744304",
   "metadata": {},
   "outputs": [
    {
     "name": "stdout",
     "output_type": "stream",
     "text": [
      "enter the number between 1 to 12 : 9\n",
      "the month is september and days in september are 30\n"
     ]
    }
   ],
   "source": [
    "# program to display the months of the year and days in that month assign to that number from 1 to 12\n",
    "month=int(input(\"enter the number between 1 to 12 : \"))\n",
    "if month==1:\n",
    "    print(\"the month is january and days in january are 31\")\n",
    "elif month==2:\n",
    "     print(\"the month is february and days in february are 28\")\n",
    "elif month==3:\n",
    "     print(\"the month is march and days in march are 31\")\n",
    "elif month==4:\n",
    "     print(\"the month is april and days in april are 30\")\n",
    "elif month==5:\n",
    "     print(\"the month is may and days in may are 31\")\n",
    "elif month==6:\n",
    "     print(\"the month is june and days in june are 30\")\n",
    "elif month==7:\n",
    "     print(\"the month is july and days in july are 31\")\n",
    "elif month==8:\n",
    "     print(\"the month is august and days in august are 31\")\n",
    "elif month==9:\n",
    "     print(\"the month is september and days in september are 30\")\n",
    "elif month==10:\n",
    "     print(\"the month is october and days in october are 31\")\n",
    "elif month==11:\n",
    "     print(\"the month is november and days in november are 30\")\n",
    "else:\n",
    "     print(\"the month is december and days in december are 31\")\n",
    "            \n",
    "    "
   ]
  },
  {
   "cell_type": "code",
   "execution_count": 21,
   "id": "61610a6f",
   "metadata": {},
   "outputs": [
    {
     "name": "stdout",
     "output_type": "stream",
     "text": [
      "enter the state name : Tamilnadu\n",
      "Tamilnadu=Chennai\n"
     ]
    }
   ],
   "source": [
    "# program to accept the state from user and display the capital of that state\n",
    "state=input(\"enter the state name : \")\n",
    "if state=='Maharashtra':\n",
    "    print(f\"{state}=Mumbai\")\n",
    "elif state=='Gujrat':\n",
    "     print(f\"{state}=Ahmadabad\")\n",
    "elif state=='Chhatisgarh':\n",
    "    print(f\"{state}=Raipur\")\n",
    "elif state=='Karnataka':\n",
    "    print(f\"{state}=Bangalore\")\n",
    "elif state=='Tamilnadu':\n",
    "    print(f\"{state}=Chennai\")   "
   ]
  },
  {
   "cell_type": "code",
   "execution_count": 25,
   "id": "68cc1908",
   "metadata": {},
   "outputs": [
    {
     "name": "stdout",
     "output_type": "stream",
     "text": [
      "enter the age of person: 23\n",
      "enter voter_card status: no\n",
      "The person is eligible for voting by voting_age 23\n",
      "The person is not eligible for voting due to voting_card no\n"
     ]
    }
   ],
   "source": [
    "# program to check wheather the person is eligible for voting or not\n",
    "# conditions\n",
    "# voting_age>=18\n",
    "# voter_card==Yes\n",
    "voting_age=int(input(\"enter the age of person: \"))\n",
    "voting_card=input(\"enter voter_card status: \")\n",
    "if voting_age>=18:\n",
    "    print(f\"The person is eligible for voting by voting_age {voting_age}\")\n",
    "    if voting_card=='yes':\n",
    "        print(f\"The person is eligible for voting by voting_card {voting_card}\")\n",
    "        print(f\"The person is eligible for voting\")\n",
    "    else:\n",
    "        print(f\"The person is not eligible for voting due to voting_card {voting_card}\")\n",
    "else:\n",
    "     print(f\"The person is not eligible for voting due to small voting_age {voting_age}\")\n",
    "     print(f\"Sorry The person is not eligible for Voting\")\n",
    "    \n",
    "\n"
   ]
  },
  {
   "cell_type": "code",
   "execution_count": 28,
   "id": "2c51c2d0",
   "metadata": {},
   "outputs": [
    {
     "name": "stdout",
     "output_type": "stream",
     "text": [
      "enter the age of a person: 64\n",
      "The person is Senior citizen 64\n"
     ]
    }
   ],
   "source": [
    "# program to check whether the person is senior citizen or not\n",
    "Age = int(input(\"enter the age of a person: \"))\n",
    "if Age >= 60:\n",
    "    print(f\"The person is Senior citizen {Age}\")\n",
    "else:\n",
    "    print(f\"The person is not Senior citizen {Age}\")"
   ]
  },
  {
   "cell_type": "code",
   "execution_count": 31,
   "id": "2b62fbf6",
   "metadata": {},
   "outputs": [
    {
     "name": "stdout",
     "output_type": "stream",
     "text": [
      "enter the 1st number: 345\n",
      "enter the 2nd number: 678\n",
      "smaller number is 345\n"
     ]
    }
   ],
   "source": [
    "# program to find the smaller number from the two numbers that accepted from user\n",
    "number1=int(input(\"enter the 1st number: \"))\n",
    "number2=int(input(\"enter the 2nd number: \"))\n",
    "if number1>number2:\n",
    "    print(f\"smaller number is {number2}\")\n",
    "else:\n",
    "    print(f\"smaller number is {number1}\")"
   ]
  },
  {
   "cell_type": "code",
   "execution_count": 34,
   "id": "319c5cde",
   "metadata": {},
   "outputs": [
    {
     "name": "stdout",
     "output_type": "stream",
     "text": [
      "enter the number: 27\n",
      "the 27 is odd\n"
     ]
    }
   ],
   "source": [
    "# program to check wheather number is even or odd\n",
    "number=int(input(\"enter the number: \"))\n",
    "if number%2==0:\n",
    "    print(f\"the {number} is even\")\n",
    "else:\n",
    "    print(f\"the {number} is odd\")\n"
   ]
  },
  {
   "cell_type": "code",
   "execution_count": 36,
   "id": "2004508e",
   "metadata": {},
   "outputs": [
    {
     "name": "stdout",
     "output_type": "stream",
     "text": [
      "enter the number: 67\n",
      "The 67 is not divisible by 2 and 3\n"
     ]
    }
   ],
   "source": [
    "# program to check wheather number is divisible by 2 and 3 both\n",
    "number=int(input(\"enter the number: \"))\n",
    "if number%2==0 and number%3==0:\n",
    "    print(f\"The {number} is divisible by 2 and 3\")\n",
    "else:\n",
    "    print(f\"The {number} is not divisible by 2 and 3\")\n",
    "    "
   ]
  },
  {
   "cell_type": "code",
   "execution_count": 7,
   "id": "5bb38b44",
   "metadata": {},
   "outputs": [
    {
     "name": "stdout",
     "output_type": "stream",
     "text": [
      "num1: 12\n",
      "num2: 56\n",
      "num3: 34\n",
      "num4: 89\n",
      "the largest number is 89\n"
     ]
    }
   ],
   "source": [
    "##### program for find the largest number among 4 numbers enter by user\n",
    "num1,num2,num3,num4=int(input(\"num1: \")),int(input(\"num2: \")),int(input(\"num3: \")),int(input(\"num4: \")),\n",
    "if num1>num2 and num1>num3 and num1>num4:\n",
    "    print(f\"The largest number is {num1}\")\n",
    "elif num2>num1 and num2>num3 and num2>num4:\n",
    "    print(f\"The largest number is {num2}\")\n",
    "elif num3>num1 and num3>num2 and num3>num4:\n",
    "    print(f\"The largest number is {num3}\")\n",
    "elif num4>num1 and num4>num2 and num4>num3:\n",
    "    print(f\"the largest number is {num4}\")\n",
    "    \n",
    "      "
   ]
  },
  {
   "cell_type": "code",
   "execution_count": 9,
   "id": "8ae34fd7",
   "metadata": {},
   "outputs": [
    {
     "name": "stdout",
     "output_type": "stream",
     "text": [
      "age1: 86\n",
      "age2: 56\n",
      "age3: 78\n",
      "age4: 45\n",
      "age5: 34\n",
      "The oldest person is 86\n"
     ]
    }
   ],
   "source": [
    "# accept the age of 5 people and display the oldest one\n",
    "age1,age2,age3,age4,age5=int(input(\"age1: \")),int(input(\"age2: \")),int(input(\"age3: \")),int(input(\"age4: \")),int(input(\"age5: \"))\n",
    "\n",
    "if age1>age2 and age1>age3 and age1>age4 and age1>age5:\n",
    "    print(f\"The oldest person agr is {age1} years\")\n",
    "if age2>age1 and age2>age3 and age2>age4 and age2>age5:\n",
    "    print(f\"The oldest person age is {age2} years\")\n",
    "if age3>age1 and age3>age2 and age3>age4 and age3>age5:\n",
    "    print(f\"The oldest person age is {age3} years\")\n",
    "if age4>age1 and age4>age3 and age4>age2 and age4>age5:\n",
    "    print(f\"The oldest person age is {age4} years\")\n",
    "if age5>age2 and age5>age3 and age5>age4 and age5>age1:\n",
    "    print(f\"The oldest person age is {age5} years\")"
   ]
  },
  {
   "cell_type": "code",
   "execution_count": 1,
   "id": "e3d13b0e",
   "metadata": {},
   "outputs": [
    {
     "name": "stdout",
     "output_type": "stream",
     "text": [
      "marks1: 45\n",
      "marks2: 67\n",
      "marks3: 87\n",
      "marks4: 98\n",
      "student gets a A+ grade\n",
      "grades of 45: \n",
      "grades of 67: \n",
      "grades of 87: \n",
      "grades of 98: \n"
     ]
    }
   ],
   "source": [
    "# accept marks from user and display grades according to that\n",
    "marks1,marks2,marks3,marks4=int(input(\"marks1: \")),int(input(\"marks2: \")),int(input(\"marks3: \")),int(input(\"marks4: \"))\n",
    "if marks1>=80 or marks2>=80 or marks3>=80 or marks4>=80:\n",
    "    print(f\"student gets a A+ grade\")\n",
    "elif marks1>=60 or marks2>=60 or marks3>=60 or marks4>=60:\n",
    "    print(f\"student gets a A grade\")\n",
    "elif marks1>=50 or marks2>=50 or marks3>=50 or marks4>=50:\n",
    "    print(f\"student gets a B+ grade\")\n",
    "elif marks1>=45 or marks2>=45 or marks3>=45 or marks4>=45:\n",
    "    print(f\"student gets a B grade\")\n",
    "elif marks1>=25 or marks2>=25 or marks3>=25 or marks4>=25:\n",
    "    print(f\"student gets a C grade\")\n",
    "else:\n",
    "    printf(f\"student gets a D grade\")\n",
    "print(f\"grades of {marks1}: \")\n",
    "print(f\"grades of {marks2}: \")\n",
    "print(f\"grades of {marks3}: \")\n",
    "print(f\"grades of {marks4}: \")"
   ]
  },
  {
   "cell_type": "code",
   "execution_count": 17,
   "id": "9d32d498",
   "metadata": {},
   "outputs": [
    {
     "name": "stdout",
     "output_type": "stream",
     "text": [
      "enter the percentage: 34.45\n",
      "student gets 34.45 with C grade\n"
     ]
    }
   ],
   "source": [
    "# accept percentage from user and display grades according to that\n",
    "per=float(input(\"enter the percentage: \"))\n",
    "if per>=80:\n",
    "    print(f\"student gets {per} with A+ grade\")\n",
    "elif per>=60 and per<80:\n",
    "    print(f\"student gets {per} with A grade\")\n",
    "elif per>=50 and per<60:\n",
    "    print(f\"student gets {per} with B+ grade\")\n",
    "elif per>=45 and per<50:\n",
    "    print(f\"student gets {per} with B grade\")\n",
    "elif per>=25 and per<45:\n",
    "    print(f\"student gets {per} with C grade\")\n",
    "else:\n",
    "    print(f\"student gets {per} with D grade\")"
   ]
  },
  {
   "cell_type": "code",
   "execution_count": 3,
   "id": "7fbe1aa7",
   "metadata": {},
   "outputs": [
    {
     "name": "stdout",
     "output_type": "stream",
     "text": [
      "enter service period: 8\n",
      "enter the salary: 45234\n",
      "bonus is 3618.7200000000003\n"
     ]
    }
   ],
   "source": [
    "ser=int(input(\"enter service period: \"))\n",
    "sal=float(input(\"enter the salary: \"))\n",
    "if ser>10:\n",
    "    b=10/100*sal\n",
    "elif ser>=6 and ser<=10:\n",
    "    b=8/100*sal\n",
    "elif ser<6:\n",
    "    b=5/100*sal\n",
    "print(\"bonus is\",b)"
   ]
  }
 ],
 "metadata": {
  "kernelspec": {
   "display_name": "Python 3 (ipykernel)",
   "language": "python",
   "name": "python3"
  },
  "language_info": {
   "codemirror_mode": {
    "name": "ipython",
    "version": 3
   },
   "file_extension": ".py",
   "mimetype": "text/x-python",
   "name": "python",
   "nbconvert_exporter": "python",
   "pygments_lexer": "ipython3",
   "version": "3.11.4"
  }
 },
 "nbformat": 4,
 "nbformat_minor": 5
}
